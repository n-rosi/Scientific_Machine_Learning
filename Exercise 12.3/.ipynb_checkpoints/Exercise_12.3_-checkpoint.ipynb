{
 "cells": [
  {
   "cell_type": "code",
   "execution_count": 7,
   "id": "f890a184-e530-420b-a13c-af0944ef6438",
   "metadata": {},
   "outputs": [],
   "source": [
    "import scipy.io\n",
    "import numpy as np\n",
    "\n",
    "import tensorflow as tf\n",
    "from tensorflow.keras.models import Model\n",
    "from tensorflow.keras import layers, losses"
   ]
  },
  {
   "cell_type": "code",
   "execution_count": 2,
   "id": "b433cdf9-711b-4080-b1e4-a99a491dc49f",
   "metadata": {},
   "outputs": [],
   "source": [
    "cylinder_data = scipy.io.loadmat(\"../DATA/CYLINDER_ALL.mat\")\n",
    "\n",
    "m = cylinder_data['m'].squeeze()\n",
    "n = cylinder_data['n'].squeeze()\n",
    "X = cylinder_data['VORTALL']"
   ]
  },
  {
   "cell_type": "code",
   "execution_count": 13,
   "id": "1f8aa340-0288-4dd7-9c57-aca2222fe50b",
   "metadata": {},
   "outputs": [
    {
     "name": "stdout",
     "output_type": "stream",
     "text": [
      "89351\n"
     ]
    }
   ],
   "source": [
    "input_dataset = X[ : , :-1 ]\n",
    "output_dataset = X[ : , 1: ]\n",
    "\n",
    "print( input_dataset.shape[0] )"
   ]
  },
  {
   "cell_type": "code",
   "execution_count": 12,
   "id": "44c26a21-fae9-455a-bc5f-e880baa213ff",
   "metadata": {},
   "outputs": [],
   "source": [
    "input_dim = input_dataset.shape[0]\n",
    "output_dim = output_dataset.shape[0]\n",
    "latent_dim = 3\n",
    "\n",
    "class Autoencoder( Model ):\n",
    "  def __init__( self , input_dim , latent_dim ):\n",
    "    \n",
    "    super( Autoencoder , self ).__init__()\n",
    "    self.latent_dim = latent_dim   \n",
    "    \n",
    "    # Encoder.\n",
    "    self.encoder = tf.keras.Sequential([\n",
    "      layers.Dense( int( input_dim / 10 ) , activation = \"tanh\" ),\n",
    "      layers.Dense( int( input_dim / 100 ) , activation = \"tanh\" ),        \n",
    "      layers.Dense( int( input_dim / 1000 ) , activation = \"tanh\" ),\n",
    "      layers.Dense( latent_dim , activation = \"tanh\" ),\n",
    "    ])\n",
    "    \n",
    "    # Decoder.\n",
    "    self.decoder = tf.keras.Sequential([\n",
    "      layers.Dense( 784 , activation='sigmoid'),\n",
    "      layers.Reshape( ( 28 ,  28 ) )\n",
    "    ])\n",
    "\n",
    "  def call(self, x):\n",
    "    \n",
    "    encoded = self.encoder(x)\n",
    "    decoded = self.decoder(encoded)\n",
    "    \n",
    "    return decoded\n",
    "\n",
    "autoencoder = Autoencoder( latent_dim )\n",
    "autoencoder.compile(optimizer='adam', loss=losses.MeanSquaredError())"
   ]
  },
  {
   "cell_type": "code",
   "execution_count": null,
   "id": "eeb833ea-4c08-480f-90b5-1a44ac8d6cfe",
   "metadata": {},
   "outputs": [],
   "source": []
  }
 ],
 "metadata": {
  "kernelspec": {
   "display_name": "ddsande",
   "language": "python",
   "name": "ddsande"
  },
  "language_info": {
   "codemirror_mode": {
    "name": "ipython",
    "version": 3
   },
   "file_extension": ".py",
   "mimetype": "text/x-python",
   "name": "python",
   "nbconvert_exporter": "python",
   "pygments_lexer": "ipython3",
   "version": "3.10.10"
  }
 },
 "nbformat": 4,
 "nbformat_minor": 5
}
